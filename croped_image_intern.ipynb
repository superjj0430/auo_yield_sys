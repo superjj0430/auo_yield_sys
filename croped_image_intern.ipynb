import numpy as np
from PIL import Image, ImageFilter
import matplotlib.pyplot as plt
from scipy.signal import savgol_filter
from sklearn.linear_model import LinearRegression
import sys
import heapq

in_file = r'U:\\171751\\crop\\2.3\\2.3crop_X3.jpg'
in_image_a = Image.open(in_file)

# 縱向統計
img_g = np.array(in_image_a.convert("L"))
img_sum = np.sum(img_g, axis=0)


len_x = len(img_sum)

plt.plot(img_sum)
plt.show()

# 平滑曲線
a = np.arange(0,len(img_sum),1)
b = img_sum.tolist()

# x_smooth = savgol_filter(y, 101, 3)
smooth_y = savgol_filter(b,11, 9)

# 線性回歸
x = np.arange(0,len_x,1)
y = img_sum

x = x[:, np.newaxis]
y = y[:, np.newaxis]

model = LinearRegression()
model.fit(x, y)

predict = model.predict(x[:len_x,:])
    

plt.plot(predict,c="red")
plt.scatter(x, smooth_y,color="green", s=2)
plt.show()

point = []

for i in range(len(predict)-1):
    if smooth_y[i] > predict[i] and smooth_y[i+1] < predict[i+1]:
        point.append(i)
    elif smooth_y[i] < predict[i] and smooth_y[i+1] > predict[i+1]:
         point.append(i)
        
print(point)
high = len(np.sum(img_g, axis=1))

image = []
for i in range(0, len(point), 2):
    print(i)
    image.append(in_image_a.crop((point[i], 0, point[i+1], high )))
#     plt.imshow(in_image_a.crop((point[i], 0, point[i+1], high )))
    
image

for i in range(len(image)):
    plt.figure(figsize=(5,5))
    plt.imshow(image[i])
   

 
# 二值化

# threshold = 90

# table = []
# for i in range(256):
#     if i < threshold:
#         table.append(0)
#     else:
#         table.append(1)
    
# img_l = in_image_a.convert('L')
# photo = img_l.point(table, '1')
# photo

import cv2 

image = cv2.imread(r'U:\\171751\\crop\\cc\\2.3crop_P1-5.jpg')
print(type(image))
image2 = image[:,:,::-1]

gray = cv2.cvtColor(image, cv2.COLOR_BGR2GRAY)
plt.figure(figsize=(30, 30))
plt.imshow(gray)
plt.show()




# gray = cv2.cvtColor(image, cv2.COLOR_BGR2GRAY)
# blurred = cv2.GaussianBlur(gray, (5, 5), 0)
# canny = cv2.Canny(blurred, 30, 150)
# canny
